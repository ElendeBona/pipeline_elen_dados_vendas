{
 "cells": [
  {
   "cell_type": "markdown",
   "id": "b815c09f",
   "metadata": {},
   "source": [
    "Lógica da query SQL para juntar todas as informações relevantes em uma única \"tabela mestra\"."
   ]
  },
  {
   "cell_type": "markdown",
   "id": "adf99677",
   "metadata": {},
   "source": [
    " Célula 1: Importar o pandas e carregar os dados  \n",
    "import pandas as pd\n",
    "import os\n",
    "\n",
    "Caminho para a pasta de dados\n",
    "DATA_PATH = \"C:\\Users\\edsoo\\pipeline_elen_dados_vendas/dados/\"\n",
    "\n",
    "Dicionário com os nomes dos arquivos para facilitar o carregamento\n",
    "\n",
    "A chave será o nome do dataframe, e o valor o nome do arquivo .csv\n",
    "\n",
    "files_names = {\n",
    "    'customers': 'olist_customers_dataset.csv',\n",
    "    'geolocation': 'olist_geolocation_dataset.csv',\n",
    "    'order_items': 'olist_order_items_dataset.csv',\n",
    "    'order_payments': 'olist_order_payments_dataset.csv',\n",
    "    'order_reviews': 'olist_order_reviews_dataset.csv',\n",
    "    'orders': 'olist_orders_dataset.csv',\n",
    "    'products': 'olist_products_dataset.csv',\n",
    "    'sellers': 'olist_sellers_dataset.csv',\n",
    "    'product_category_name_translation': 'product_category_name_translation.csv'\n",
    "}\n",
    "\n"
   ]
  },
  {
   "cell_type": "code",
   "execution_count": 1,
   "id": "6839cae8",
   "metadata": {},
   "outputs": [],
   "source": [
    "import pandas as pd\n",
    "import os\n",
    "\n",
    "DATA_PATH = \"../dados/\"\n",
    "\n",
    "files_names = {\n",
    "    'customers': 'olist_customers_dataset.csv',\n",
    "    'geolocation': 'olist_geolocation_dataset.csv',\n",
    "    'order_items': 'olist_order_items_dataset.csv',\n",
    "    'order_payments': 'olist_order_payments_dataset.csv',\n",
    "    'order_reviews': 'olist_order_reviews_dataset.csv',\n",
    "    'orders': 'olist_orders_dataset.csv',\n",
    "    'products': 'olist_products_dataset.csv',\n",
    "    'sellers': 'olist_sellers_dataset.csv',\n",
    "    'product_category_name_translation': 'product_category_name_translation.csv'\n",
    "}"
   ]
  },
  {
   "cell_type": "code",
   "execution_count": 2,
   "id": "4622b10c",
   "metadata": {},
   "outputs": [
    {
     "name": "stdout",
     "output_type": "stream",
     "text": [
      "dict_keys(['customers', 'geolocation', 'order_items', 'order_payments', 'order_reviews', 'orders', 'products', 'sellers', 'product_category_name_translation'])\n"
     ]
    }
   ],
   "source": [
    "# Carregar todos os arquivos em um dicionário de dataframes\n",
    "data = {}\n",
    "for name, file_name in files_names.items():\n",
    "    file_path = os.path.join(DATA_PATH, file_name)\n",
    "    data[name] = pd.read_csv(file_path)\n",
    "\n",
    "# Verificar se todos os dataframes foram carregados\n",
    "print(data.keys())    "
   ]
  },
  {
   "cell_type": "markdown",
   "id": "b22c3ac8",
   "metadata": {},
   "source": [
    "\n",
    " Vamos executar os JOINs da nossa query SQL, um por um.\n"
   ]
  },
  {
   "cell_type": "code",
   "execution_count": 3,
   "id": "171b32a9",
   "metadata": {},
   "outputs": [],
   "source": [
    "# Célula 2: Juntando (merge) os dataframes\n",
    "\n",
    "# Começamos com o dataframe de 'pedidos' (orders)\n",
    "# Este será nosso dataframe principal (df)\n",
    "df = data['orders'].copy()\n",
    "\n",
    "# Juntando com 'order_items'\n",
    "df = pd.merge(\n",
    "    df,\n",
    "    data['order_items'],\n",
    "    on='order_id',\n",
    "    how='left'\n",
    ")"
   ]
  },
  {
   "cell_type": "code",
   "execution_count": 4,
   "id": "0e3f5c8d",
   "metadata": {},
   "outputs": [],
   "source": [
    "# Juntando com 'customers'\n",
    "df = pd.merge(\n",
    "    df,\n",
    "    data['customers'],\n",
    "    on='customer_id',\n",
    "    how='left'\n",
    ")"
   ]
  },
  {
   "cell_type": "code",
   "execution_count": 5,
   "id": "26fc05fc",
   "metadata": {},
   "outputs": [],
   "source": [
    "# Juntando com 'products'\n",
    "df = pd.merge(\n",
    "    df,\n",
    "    data['products'],\n",
    "    on='product_id',\n",
    "    how='left'\n",
    ")"
   ]
  },
  {
   "cell_type": "code",
   "execution_count": 6,
   "id": "83d18f5a",
   "metadata": {},
   "outputs": [],
   "source": [
    "# Juntando com 'sellers'\n",
    "df = pd.merge(\n",
    "    df,\n",
    "    data['sellers'],\n",
    "    on='seller_id',\n",
    "    how='left'\n",
    ")"
   ]
  },
  {
   "cell_type": "code",
   "execution_count": 7,
   "id": "b947fbd3",
   "metadata": {},
   "outputs": [],
   "source": [
    "# Juntando com a tradução das categorias de produtos\n",
    "df = pd.merge(\n",
    "    df,\n",
    "    data['product_category_name_translation'],\n",
    "    on='product_category_name',\n",
    "    how='left'\n",
    ")"
   ]
  },
  {
   "cell_type": "markdown",
   "id": "ef772da1",
   "metadata": {},
   "source": [
    "Agora temos um único dataframe df com tudo junto. Vamos fazer uma primeira inspeção para entender o que temos em mãos."
   ]
  },
  {
   "cell_type": "code",
   "execution_count": 8,
   "id": "37147a84",
   "metadata": {},
   "outputs": [
    {
     "name": "stdout",
     "output_type": "stream",
     "text": [
      "--- Visualizando as 5 primeiras linhas ---\n"
     ]
    },
    {
     "data": {
      "text/html": [
       "<div>\n",
       "<style scoped>\n",
       "    .dataframe tbody tr th:only-of-type {\n",
       "        vertical-align: middle;\n",
       "    }\n",
       "\n",
       "    .dataframe tbody tr th {\n",
       "        vertical-align: top;\n",
       "    }\n",
       "\n",
       "    .dataframe thead th {\n",
       "        text-align: right;\n",
       "    }\n",
       "</style>\n",
       "<table border=\"1\" class=\"dataframe\">\n",
       "  <thead>\n",
       "    <tr style=\"text-align: right;\">\n",
       "      <th></th>\n",
       "      <th>order_id</th>\n",
       "      <th>customer_id</th>\n",
       "      <th>order_status</th>\n",
       "      <th>order_purchase_timestamp</th>\n",
       "      <th>order_approved_at</th>\n",
       "      <th>order_delivered_carrier_date</th>\n",
       "      <th>order_delivered_customer_date</th>\n",
       "      <th>order_estimated_delivery_date</th>\n",
       "      <th>order_item_id</th>\n",
       "      <th>product_id</th>\n",
       "      <th>...</th>\n",
       "      <th>product_description_lenght</th>\n",
       "      <th>product_photos_qty</th>\n",
       "      <th>product_weight_g</th>\n",
       "      <th>product_length_cm</th>\n",
       "      <th>product_height_cm</th>\n",
       "      <th>product_width_cm</th>\n",
       "      <th>seller_zip_code_prefix</th>\n",
       "      <th>seller_city</th>\n",
       "      <th>seller_state</th>\n",
       "      <th>product_category_name_english</th>\n",
       "    </tr>\n",
       "  </thead>\n",
       "  <tbody>\n",
       "    <tr>\n",
       "      <th>0</th>\n",
       "      <td>e481f51cbdc54678b7cc49136f2d6af7</td>\n",
       "      <td>9ef432eb6251297304e76186b10a928d</td>\n",
       "      <td>delivered</td>\n",
       "      <td>2017-10-02 10:56:33</td>\n",
       "      <td>2017-10-02 11:07:15</td>\n",
       "      <td>2017-10-04 19:55:00</td>\n",
       "      <td>2017-10-10 21:25:13</td>\n",
       "      <td>2017-10-18 00:00:00</td>\n",
       "      <td>1.0</td>\n",
       "      <td>87285b34884572647811a353c7ac498a</td>\n",
       "      <td>...</td>\n",
       "      <td>268.0</td>\n",
       "      <td>4.0</td>\n",
       "      <td>500.0</td>\n",
       "      <td>19.0</td>\n",
       "      <td>8.0</td>\n",
       "      <td>13.0</td>\n",
       "      <td>9350.0</td>\n",
       "      <td>maua</td>\n",
       "      <td>SP</td>\n",
       "      <td>housewares</td>\n",
       "    </tr>\n",
       "    <tr>\n",
       "      <th>1</th>\n",
       "      <td>53cdb2fc8bc7dce0b6741e2150273451</td>\n",
       "      <td>b0830fb4747a6c6d20dea0b8c802d7ef</td>\n",
       "      <td>delivered</td>\n",
       "      <td>2018-07-24 20:41:37</td>\n",
       "      <td>2018-07-26 03:24:27</td>\n",
       "      <td>2018-07-26 14:31:00</td>\n",
       "      <td>2018-08-07 15:27:45</td>\n",
       "      <td>2018-08-13 00:00:00</td>\n",
       "      <td>1.0</td>\n",
       "      <td>595fac2a385ac33a80bd5114aec74eb8</td>\n",
       "      <td>...</td>\n",
       "      <td>178.0</td>\n",
       "      <td>1.0</td>\n",
       "      <td>400.0</td>\n",
       "      <td>19.0</td>\n",
       "      <td>13.0</td>\n",
       "      <td>19.0</td>\n",
       "      <td>31570.0</td>\n",
       "      <td>belo horizonte</td>\n",
       "      <td>SP</td>\n",
       "      <td>perfumery</td>\n",
       "    </tr>\n",
       "    <tr>\n",
       "      <th>2</th>\n",
       "      <td>47770eb9100c2d0c44946d9cf07ec65d</td>\n",
       "      <td>41ce2a54c0b03bf3443c3d931a367089</td>\n",
       "      <td>delivered</td>\n",
       "      <td>2018-08-08 08:38:49</td>\n",
       "      <td>2018-08-08 08:55:23</td>\n",
       "      <td>2018-08-08 13:50:00</td>\n",
       "      <td>2018-08-17 18:06:29</td>\n",
       "      <td>2018-09-04 00:00:00</td>\n",
       "      <td>1.0</td>\n",
       "      <td>aa4383b373c6aca5d8797843e5594415</td>\n",
       "      <td>...</td>\n",
       "      <td>232.0</td>\n",
       "      <td>1.0</td>\n",
       "      <td>420.0</td>\n",
       "      <td>24.0</td>\n",
       "      <td>19.0</td>\n",
       "      <td>21.0</td>\n",
       "      <td>14840.0</td>\n",
       "      <td>guariba</td>\n",
       "      <td>SP</td>\n",
       "      <td>auto</td>\n",
       "    </tr>\n",
       "    <tr>\n",
       "      <th>3</th>\n",
       "      <td>949d5b44dbf5de918fe9c16f97b45f8a</td>\n",
       "      <td>f88197465ea7920adcdbec7375364d82</td>\n",
       "      <td>delivered</td>\n",
       "      <td>2017-11-18 19:28:06</td>\n",
       "      <td>2017-11-18 19:45:59</td>\n",
       "      <td>2017-11-22 13:39:59</td>\n",
       "      <td>2017-12-02 00:28:42</td>\n",
       "      <td>2017-12-15 00:00:00</td>\n",
       "      <td>1.0</td>\n",
       "      <td>d0b61bfb1de832b15ba9d266ca96e5b0</td>\n",
       "      <td>...</td>\n",
       "      <td>468.0</td>\n",
       "      <td>3.0</td>\n",
       "      <td>450.0</td>\n",
       "      <td>30.0</td>\n",
       "      <td>10.0</td>\n",
       "      <td>20.0</td>\n",
       "      <td>31842.0</td>\n",
       "      <td>belo horizonte</td>\n",
       "      <td>MG</td>\n",
       "      <td>pet_shop</td>\n",
       "    </tr>\n",
       "    <tr>\n",
       "      <th>4</th>\n",
       "      <td>ad21c59c0840e6cb83a9ceb5573f8159</td>\n",
       "      <td>8ab97904e6daea8866dbdbc4fb7aad2c</td>\n",
       "      <td>delivered</td>\n",
       "      <td>2018-02-13 21:18:39</td>\n",
       "      <td>2018-02-13 22:20:29</td>\n",
       "      <td>2018-02-14 19:46:34</td>\n",
       "      <td>2018-02-16 18:17:02</td>\n",
       "      <td>2018-02-26 00:00:00</td>\n",
       "      <td>1.0</td>\n",
       "      <td>65266b2da20d04dbe00c5c2d3bb7859e</td>\n",
       "      <td>...</td>\n",
       "      <td>316.0</td>\n",
       "      <td>4.0</td>\n",
       "      <td>250.0</td>\n",
       "      <td>51.0</td>\n",
       "      <td>15.0</td>\n",
       "      <td>15.0</td>\n",
       "      <td>8752.0</td>\n",
       "      <td>mogi das cruzes</td>\n",
       "      <td>SP</td>\n",
       "      <td>stationery</td>\n",
       "    </tr>\n",
       "  </tbody>\n",
       "</table>\n",
       "<p>5 rows × 30 columns</p>\n",
       "</div>"
      ],
      "text/plain": [
       "                           order_id                       customer_id  \\\n",
       "0  e481f51cbdc54678b7cc49136f2d6af7  9ef432eb6251297304e76186b10a928d   \n",
       "1  53cdb2fc8bc7dce0b6741e2150273451  b0830fb4747a6c6d20dea0b8c802d7ef   \n",
       "2  47770eb9100c2d0c44946d9cf07ec65d  41ce2a54c0b03bf3443c3d931a367089   \n",
       "3  949d5b44dbf5de918fe9c16f97b45f8a  f88197465ea7920adcdbec7375364d82   \n",
       "4  ad21c59c0840e6cb83a9ceb5573f8159  8ab97904e6daea8866dbdbc4fb7aad2c   \n",
       "\n",
       "  order_status order_purchase_timestamp    order_approved_at  \\\n",
       "0    delivered      2017-10-02 10:56:33  2017-10-02 11:07:15   \n",
       "1    delivered      2018-07-24 20:41:37  2018-07-26 03:24:27   \n",
       "2    delivered      2018-08-08 08:38:49  2018-08-08 08:55:23   \n",
       "3    delivered      2017-11-18 19:28:06  2017-11-18 19:45:59   \n",
       "4    delivered      2018-02-13 21:18:39  2018-02-13 22:20:29   \n",
       "\n",
       "  order_delivered_carrier_date order_delivered_customer_date  \\\n",
       "0          2017-10-04 19:55:00           2017-10-10 21:25:13   \n",
       "1          2018-07-26 14:31:00           2018-08-07 15:27:45   \n",
       "2          2018-08-08 13:50:00           2018-08-17 18:06:29   \n",
       "3          2017-11-22 13:39:59           2017-12-02 00:28:42   \n",
       "4          2018-02-14 19:46:34           2018-02-16 18:17:02   \n",
       "\n",
       "  order_estimated_delivery_date  order_item_id  \\\n",
       "0           2017-10-18 00:00:00            1.0   \n",
       "1           2018-08-13 00:00:00            1.0   \n",
       "2           2018-09-04 00:00:00            1.0   \n",
       "3           2017-12-15 00:00:00            1.0   \n",
       "4           2018-02-26 00:00:00            1.0   \n",
       "\n",
       "                         product_id  ... product_description_lenght  \\\n",
       "0  87285b34884572647811a353c7ac498a  ...                      268.0   \n",
       "1  595fac2a385ac33a80bd5114aec74eb8  ...                      178.0   \n",
       "2  aa4383b373c6aca5d8797843e5594415  ...                      232.0   \n",
       "3  d0b61bfb1de832b15ba9d266ca96e5b0  ...                      468.0   \n",
       "4  65266b2da20d04dbe00c5c2d3bb7859e  ...                      316.0   \n",
       "\n",
       "  product_photos_qty  product_weight_g  product_length_cm product_height_cm  \\\n",
       "0                4.0             500.0               19.0               8.0   \n",
       "1                1.0             400.0               19.0              13.0   \n",
       "2                1.0             420.0               24.0              19.0   \n",
       "3                3.0             450.0               30.0              10.0   \n",
       "4                4.0             250.0               51.0              15.0   \n",
       "\n",
       "   product_width_cm seller_zip_code_prefix      seller_city seller_state  \\\n",
       "0              13.0                 9350.0             maua           SP   \n",
       "1              19.0                31570.0   belo horizonte           SP   \n",
       "2              21.0                14840.0          guariba           SP   \n",
       "3              20.0                31842.0   belo horizonte           MG   \n",
       "4              15.0                 8752.0  mogi das cruzes           SP   \n",
       "\n",
       "   product_category_name_english  \n",
       "0                     housewares  \n",
       "1                      perfumery  \n",
       "2                           auto  \n",
       "3                       pet_shop  \n",
       "4                     stationery  \n",
       "\n",
       "[5 rows x 30 columns]"
      ]
     },
     "metadata": {},
     "output_type": "display_data"
    }
   ],
   "source": [
    "# Célula 3: Inspeção inicial do dataframe\n",
    "\n",
    "# 1. Visualizar as 5 primeiras linhas\n",
    "print(\"--- Visualizando as 5 primeiras linhas ---\")\n",
    "display(df.head())"
   ]
  },
  {
   "cell_type": "code",
   "execution_count": 9,
   "id": "b834de86",
   "metadata": {},
   "outputs": [
    {
     "name": "stdout",
     "output_type": "stream",
     "text": [
      "\n",
      "--- O dataframe tem 113425 linhas e 30 colunas ---\n"
     ]
    }
   ],
   "source": [
    "# 2. Verificar as dimensões do dataframe (linhas, colunas)\n",
    "print(f\"\\n--- O dataframe tem {df.shape[0]} linhas e {df.shape[1]} colunas ---\")\n"
   ]
  },
  {
   "cell_type": "code",
   "execution_count": 10,
   "id": "fb6988c0",
   "metadata": {},
   "outputs": [
    {
     "name": "stdout",
     "output_type": "stream",
     "text": [
      "\n",
      "--- Resumo técnico do dataframe ---\n",
      "<class 'pandas.core.frame.DataFrame'>\n",
      "RangeIndex: 113425 entries, 0 to 113424\n",
      "Data columns (total 30 columns):\n",
      " #   Column                         Non-Null Count   Dtype  \n",
      "---  ------                         --------------   -----  \n",
      " 0   order_id                       113425 non-null  object \n",
      " 1   customer_id                    113425 non-null  object \n",
      " 2   order_status                   113425 non-null  object \n",
      " 3   order_purchase_timestamp       113425 non-null  object \n",
      " 4   order_approved_at              113264 non-null  object \n",
      " 5   order_delivered_carrier_date   111457 non-null  object \n",
      " 6   order_delivered_customer_date  110196 non-null  object \n",
      " 7   order_estimated_delivery_date  113425 non-null  object \n",
      " 8   order_item_id                  112650 non-null  float64\n",
      " 9   product_id                     112650 non-null  object \n",
      " 10  seller_id                      112650 non-null  object \n",
      " 11  shipping_limit_date            112650 non-null  object \n",
      " 12  price                          112650 non-null  float64\n",
      " 13  freight_value                  112650 non-null  float64\n",
      " 14  customer_unique_id             113425 non-null  object \n",
      " 15  customer_zip_code_prefix       113425 non-null  int64  \n",
      " 16  customer_city                  113425 non-null  object \n",
      " 17  customer_state                 113425 non-null  object \n",
      " 18  product_category_name          111047 non-null  object \n",
      " 19  product_name_lenght            111047 non-null  float64\n",
      " 20  product_description_lenght     111047 non-null  float64\n",
      " 21  product_photos_qty             111047 non-null  float64\n",
      " 22  product_weight_g               112632 non-null  float64\n",
      " 23  product_length_cm              112632 non-null  float64\n",
      " 24  product_height_cm              112632 non-null  float64\n",
      " 25  product_width_cm               112632 non-null  float64\n",
      " 26  seller_zip_code_prefix         112650 non-null  float64\n",
      " 27  seller_city                    112650 non-null  object \n",
      " 28  seller_state                   112650 non-null  object \n",
      " 29  product_category_name_english  111023 non-null  object \n",
      "dtypes: float64(11), int64(1), object(18)\n",
      "memory usage: 26.0+ MB\n"
     ]
    }
   ],
   "source": [
    "# 3. Obter um resumo técnico (tipos de dados, valores não-nulos)\n",
    "print(\"\\n--- Resumo técnico do dataframe ---\")\n",
    "df.info()"
   ]
  },
  {
   "cell_type": "code",
   "execution_count": 11,
   "id": "569df3a6",
   "metadata": {},
   "outputs": [
    {
     "name": "stdout",
     "output_type": "stream",
     "text": [
      "\n",
      "--- Contagem de valores nulos por coluna ---\n"
     ]
    },
    {
     "data": {
      "text/plain": [
       "order_id                            0\n",
       "customer_id                         0\n",
       "order_status                        0\n",
       "order_purchase_timestamp            0\n",
       "order_approved_at                 161\n",
       "order_delivered_carrier_date     1968\n",
       "order_delivered_customer_date    3229\n",
       "order_estimated_delivery_date       0\n",
       "order_item_id                     775\n",
       "product_id                        775\n",
       "seller_id                         775\n",
       "shipping_limit_date               775\n",
       "price                             775\n",
       "freight_value                     775\n",
       "customer_unique_id                  0\n",
       "customer_zip_code_prefix            0\n",
       "customer_city                       0\n",
       "customer_state                      0\n",
       "product_category_name            2378\n",
       "product_name_lenght              2378\n",
       "product_description_lenght       2378\n",
       "product_photos_qty               2378\n",
       "product_weight_g                  793\n",
       "product_length_cm                 793\n",
       "product_height_cm                 793\n",
       "product_width_cm                  793\n",
       "seller_zip_code_prefix            775\n",
       "seller_city                       775\n",
       "seller_state                      775\n",
       "product_category_name_english    2402\n",
       "dtype: int64"
      ]
     },
     "metadata": {},
     "output_type": "display_data"
    }
   ],
   "source": [
    "# 4. Contar a quantidade de valores nulos por coluna\n",
    "print(\"\\n--- Contagem de valores nulos por coluna ---\")\n",
    "display(df.isnull().sum())"
   ]
  },
  {
   "cell_type": "code",
   "execution_count": 12,
   "id": "dd3e3573",
   "metadata": {},
   "outputs": [
    {
     "name": "stdout",
     "output_type": "stream",
     "text": [
      "Index(['order_id', 'customer_id', 'order_status', 'order_purchase_timestamp',\n",
      "       'order_approved_at', 'order_delivered_carrier_date',\n",
      "       'order_delivered_customer_date', 'order_estimated_delivery_date',\n",
      "       'order_item_id', 'product_id', 'seller_id', 'shipping_limit_date',\n",
      "       'price', 'freight_value', 'customer_unique_id',\n",
      "       'customer_zip_code_prefix', 'customer_city', 'customer_state',\n",
      "       'product_category_name', 'product_name_lenght',\n",
      "       'product_description_lenght', 'product_photos_qty', 'product_weight_g',\n",
      "       'product_length_cm', 'product_height_cm', 'product_width_cm',\n",
      "       'seller_zip_code_prefix', 'seller_city', 'seller_state',\n",
      "       'product_category_name_english'],\n",
      "      dtype='object')\n"
     ]
    }
   ],
   "source": [
    "print(df.columns)"
   ]
  },
  {
   "cell_type": "markdown",
   "id": "28491925",
   "metadata": {},
   "source": [
    "Fase 1 concluída!\n",
    "\n",
    "O que fizemos:\n",
    "\n",
    "1. Obtivemos os dados de uma fonte externa.\n",
    "\n",
    "2. Entendemos a lógica relacional entre as diferentes tabelas (a lógica SQL).\n",
    "\n",
    "3. Executamos essa lógica com Pandas para criar um dataframe unificado.\n",
    "\n",
    "4. Fizemos uma primeira inspeção para entender a estrutura, tamanho e a quantidade de dados faltantes no nosso novo conjunto de dados."
   ]
  },
  {
   "cell_type": "markdown",
   "id": "868a335d",
   "metadata": {},
   "source": [
    "______________________________"
   ]
  },
  {
   "cell_type": "markdown",
   "id": "a3ee3254",
   "metadata": {},
   "source": [
    "Fase 2: Análise Exploratória e Pré-processamento"
   ]
  },
  {
   "cell_type": "markdown",
   "id": "ee25ec3a",
   "metadata": {},
   "source": [
    "2.1. Seleção de Colunas (Feature Selection)\n",
    "Nosso dataframe df está enorme e com muitas colunas que não são relevantes para uma análise de pipeline de vendas (ex: product_weight_g, product_length_cm, etc.). Vamos focar no que importa."
   ]
  },
  {
   "cell_type": "code",
   "execution_count": 15,
   "id": "6e88ed87",
   "metadata": {},
   "outputs": [
    {
     "data": {
      "text/html": [
       "<div>\n",
       "<style scoped>\n",
       "    .dataframe tbody tr th:only-of-type {\n",
       "        vertical-align: middle;\n",
       "    }\n",
       "\n",
       "    .dataframe tbody tr th {\n",
       "        vertical-align: top;\n",
       "    }\n",
       "\n",
       "    .dataframe thead th {\n",
       "        text-align: right;\n",
       "    }\n",
       "</style>\n",
       "<table border=\"1\" class=\"dataframe\">\n",
       "  <thead>\n",
       "    <tr style=\"text-align: right;\">\n",
       "      <th></th>\n",
       "      <th>order_id</th>\n",
       "      <th>order_status</th>\n",
       "      <th>order_purchase_timestamp</th>\n",
       "      <th>order_approved_at</th>\n",
       "      <th>price</th>\n",
       "      <th>freight_value</th>\n",
       "      <th>customer_state</th>\n",
       "      <th>product_category_name_english</th>\n",
       "      <th>seller_state</th>\n",
       "    </tr>\n",
       "  </thead>\n",
       "  <tbody>\n",
       "    <tr>\n",
       "      <th>0</th>\n",
       "      <td>e481f51cbdc54678b7cc49136f2d6af7</td>\n",
       "      <td>delivered</td>\n",
       "      <td>2017-10-02 10:56:33</td>\n",
       "      <td>2017-10-02 11:07:15</td>\n",
       "      <td>29.99</td>\n",
       "      <td>8.72</td>\n",
       "      <td>SP</td>\n",
       "      <td>housewares</td>\n",
       "      <td>SP</td>\n",
       "    </tr>\n",
       "    <tr>\n",
       "      <th>1</th>\n",
       "      <td>53cdb2fc8bc7dce0b6741e2150273451</td>\n",
       "      <td>delivered</td>\n",
       "      <td>2018-07-24 20:41:37</td>\n",
       "      <td>2018-07-26 03:24:27</td>\n",
       "      <td>118.70</td>\n",
       "      <td>22.76</td>\n",
       "      <td>BA</td>\n",
       "      <td>perfumery</td>\n",
       "      <td>SP</td>\n",
       "    </tr>\n",
       "    <tr>\n",
       "      <th>2</th>\n",
       "      <td>47770eb9100c2d0c44946d9cf07ec65d</td>\n",
       "      <td>delivered</td>\n",
       "      <td>2018-08-08 08:38:49</td>\n",
       "      <td>2018-08-08 08:55:23</td>\n",
       "      <td>159.90</td>\n",
       "      <td>19.22</td>\n",
       "      <td>GO</td>\n",
       "      <td>auto</td>\n",
       "      <td>SP</td>\n",
       "    </tr>\n",
       "    <tr>\n",
       "      <th>3</th>\n",
       "      <td>949d5b44dbf5de918fe9c16f97b45f8a</td>\n",
       "      <td>delivered</td>\n",
       "      <td>2017-11-18 19:28:06</td>\n",
       "      <td>2017-11-18 19:45:59</td>\n",
       "      <td>45.00</td>\n",
       "      <td>27.20</td>\n",
       "      <td>RN</td>\n",
       "      <td>pet_shop</td>\n",
       "      <td>MG</td>\n",
       "    </tr>\n",
       "    <tr>\n",
       "      <th>4</th>\n",
       "      <td>ad21c59c0840e6cb83a9ceb5573f8159</td>\n",
       "      <td>delivered</td>\n",
       "      <td>2018-02-13 21:18:39</td>\n",
       "      <td>2018-02-13 22:20:29</td>\n",
       "      <td>19.90</td>\n",
       "      <td>8.72</td>\n",
       "      <td>SP</td>\n",
       "      <td>stationery</td>\n",
       "      <td>SP</td>\n",
       "    </tr>\n",
       "  </tbody>\n",
       "</table>\n",
       "</div>"
      ],
      "text/plain": [
       "                           order_id order_status order_purchase_timestamp  \\\n",
       "0  e481f51cbdc54678b7cc49136f2d6af7    delivered      2017-10-02 10:56:33   \n",
       "1  53cdb2fc8bc7dce0b6741e2150273451    delivered      2018-07-24 20:41:37   \n",
       "2  47770eb9100c2d0c44946d9cf07ec65d    delivered      2018-08-08 08:38:49   \n",
       "3  949d5b44dbf5de918fe9c16f97b45f8a    delivered      2017-11-18 19:28:06   \n",
       "4  ad21c59c0840e6cb83a9ceb5573f8159    delivered      2018-02-13 21:18:39   \n",
       "\n",
       "     order_approved_at   price  freight_value customer_state  \\\n",
       "0  2017-10-02 11:07:15   29.99           8.72             SP   \n",
       "1  2018-07-26 03:24:27  118.70          22.76             BA   \n",
       "2  2018-08-08 08:55:23  159.90          19.22             GO   \n",
       "3  2017-11-18 19:45:59   45.00          27.20             RN   \n",
       "4  2018-02-13 22:20:29   19.90           8.72             SP   \n",
       "\n",
       "  product_category_name_english seller_state  \n",
       "0                    housewares           SP  \n",
       "1                     perfumery           SP  \n",
       "2                          auto           SP  \n",
       "3                      pet_shop           MG  \n",
       "4                    stationery           SP  "
      ]
     },
     "metadata": {},
     "output_type": "display_data"
    }
   ],
   "source": [
    "# Célula 4: Selecionando as colunas mais relevantes\n",
    "\n",
    "colunas_selecionadas = [\n",
    "    'order_id',\n",
    "    'order_status',\n",
    "    'order_purchase_timestamp',\n",
    "    'order_approved_at',\n",
    "    'price',\n",
    "    'freight_value',\n",
    "    'customer_state',\n",
    "    'product_category_name_english',\n",
    "    'seller_state'\n",
    "]\n",
    "\n",
    "df_pipeline = df[colunas_selecionadas].copy()\n",
    "\n",
    "# O .copy() é importante para evitar avisos do pandas ao modificar o dataframe\n",
    "display(df_pipeline.head())"
   ]
  },
  {
   "cell_type": "markdown",
   "id": "82eeff75",
   "metadata": {},
   "source": [
    "2.2. Limpeza e Transformação de Dados\n",
    "\n",
    "Com base no que vimos no df.info() e df.isnull().sum() na fase anterior, temos dois problemas principais: dados faltantes e tipos de dados errados (datas como texto)."
   ]
  },
  {
   "cell_type": "code",
   "execution_count": 16,
   "id": "2e803d07",
   "metadata": {},
   "outputs": [
    {
     "name": "stdout",
     "output_type": "stream",
     "text": [
      "Linhas antes da limpeza: 113425\n",
      "Linhas depois da limpeza: 111009\n"
     ]
    }
   ],
   "source": [
    "# Célula 5: Lidando com dados faltantes e corrigindo tipos\n",
    "\n",
    "# 1. Lidando com Dados Faltantes\n",
    "# Para este projeto, a estratégia mais simples é remover as linhas que contêm\n",
    "# qualquer valor nulo nas colunas que selecionamos.\n",
    "# Nosso dataset é grande o suficiente para que essa perda não seja um problema.\n",
    "print(f\"Linhas antes da limpeza: {df_pipeline.shape[0]}\")\n",
    "df_pipeline.dropna(inplace=True)\n",
    "print(f\"Linhas depois da limpeza: {df_pipeline.shape[0]}\")"
   ]
  },
  {
   "cell_type": "code",
   "execution_count": 17,
   "id": "1039c75c",
   "metadata": {},
   "outputs": [
    {
     "name": "stdout",
     "output_type": "stream",
     "text": [
      "\n",
      "--- Tipos de dados após a conversão ---\n",
      "<class 'pandas.core.frame.DataFrame'>\n",
      "Index: 111009 entries, 0 to 113424\n",
      "Data columns (total 9 columns):\n",
      " #   Column                         Non-Null Count   Dtype         \n",
      "---  ------                         --------------   -----         \n",
      " 0   order_id                       111009 non-null  object        \n",
      " 1   order_status                   111009 non-null  object        \n",
      " 2   order_purchase_timestamp       111009 non-null  datetime64[ns]\n",
      " 3   order_approved_at              111009 non-null  datetime64[ns]\n",
      " 4   price                          111009 non-null  float64       \n",
      " 5   freight_value                  111009 non-null  float64       \n",
      " 6   customer_state                 111009 non-null  object        \n",
      " 7   product_category_name_english  111009 non-null  object        \n",
      " 8   seller_state                   111009 non-null  object        \n",
      "dtypes: datetime64[ns](2), float64(2), object(5)\n",
      "memory usage: 8.5+ MB\n"
     ]
    }
   ],
   "source": [
    "# 2. Corrigindo Tipos de Dados (Datas)\n",
    "# Precisamos converter as colunas de data, que estão como 'object' (texto),\n",
    "# para o tipo 'datetime' para podermos fazer cálculos com elas.\n",
    "colunas_de_data = ['order_purchase_timestamp', 'order_approved_at']\n",
    "for col in colunas_de_data:\n",
    "    df_pipeline[col] = pd.to_datetime(df_pipeline[col])\n",
    "\n",
    "# Verificando as mudanças\n",
    "print(\"\\n--- Tipos de dados após a conversão ---\")\n",
    "df_pipeline.info()"
   ]
  },
  {
   "cell_type": "markdown",
   "id": "b064dc61",
   "metadata": {},
   "source": [
    "2.3. Engenharia de Atributos (Feature Engineering)\n",
    "\n",
    "Aqui nós criamos novas colunas (atributos ou features) a partir das existentes para dar mais \"poder\" à nossa análise e ao futuro modelo de machine learning.\n",
    "\n"
   ]
  },
  {
   "cell_type": "code",
   "execution_count": 18,
   "id": "5b829e36",
   "metadata": {},
   "outputs": [],
   "source": [
    "# Célula 6: Criando novas variáveis de negócio\n",
    "\n",
    "# 1. Definindo nossa variável-alvo: 'status_venda' (Ganho/Perdido)\n",
    "# Para nós, uma venda \"ganha\" é aquela que foi 'delivered'.\n",
    "# Todas as outras (canceled, unavailable) serão consideradas \"perdidas\".\n",
    "df_pipeline['status_venda'] = df_pipeline['order_status'].apply(\n",
    "    lambda x: 1 if x == 'delivered' else 0\n",
    ")"
   ]
  },
  {
   "cell_type": "code",
   "execution_count": 19,
   "id": "a2c83b18",
   "metadata": {},
   "outputs": [],
   "source": [
    "# 2. Tempo até a aprovação da compra\n",
    "# Quanto tempo, em horas, demorou da criação do pedido até o pagamento ser aprovado?\n",
    "# Isso pode ser um indicador da eficiência do processo ou do perfil do cliente.\n",
    "df_pipeline['tempo_aprovacao_horas'] = \\\n",
    "    (df_pipeline['order_approved_at'] - df_pipeline['order_purchase_timestamp']) / pd.Timedelta(hours=1)\n",
    "\n"
   ]
  },
  {
   "cell_type": "code",
   "execution_count": 20,
   "id": "2f2a7235",
   "metadata": {},
   "outputs": [],
   "source": [
    "# 3. Valor total do pedido\n",
    "df_pipeline['valor_total'] = df_pipeline['price'] + df_pipeline['freight_value']"
   ]
  },
  {
   "cell_type": "code",
   "execution_count": 21,
   "id": "4c9bcf05",
   "metadata": {},
   "outputs": [],
   "source": [
    "# 4. Criar Ano/Mês da compra para análises de tendência\n",
    "df_pipeline['ano_mes_compra'] = df_pipeline['order_purchase_timestamp'].dt.to_period('M')\n",
    "\n"
   ]
  },
  {
   "cell_type": "code",
   "execution_count": 22,
   "id": "64940b1c",
   "metadata": {},
   "outputs": [
    {
     "data": {
      "text/html": [
       "<div>\n",
       "<style scoped>\n",
       "    .dataframe tbody tr th:only-of-type {\n",
       "        vertical-align: middle;\n",
       "    }\n",
       "\n",
       "    .dataframe tbody tr th {\n",
       "        vertical-align: top;\n",
       "    }\n",
       "\n",
       "    .dataframe thead th {\n",
       "        text-align: right;\n",
       "    }\n",
       "</style>\n",
       "<table border=\"1\" class=\"dataframe\">\n",
       "  <thead>\n",
       "    <tr style=\"text-align: right;\">\n",
       "      <th></th>\n",
       "      <th>order_id</th>\n",
       "      <th>order_status</th>\n",
       "      <th>order_purchase_timestamp</th>\n",
       "      <th>order_approved_at</th>\n",
       "      <th>price</th>\n",
       "      <th>freight_value</th>\n",
       "      <th>customer_state</th>\n",
       "      <th>product_category_name_english</th>\n",
       "      <th>seller_state</th>\n",
       "      <th>status_venda</th>\n",
       "      <th>tempo_aprovacao_horas</th>\n",
       "      <th>valor_total</th>\n",
       "      <th>ano_mes_compra</th>\n",
       "    </tr>\n",
       "  </thead>\n",
       "  <tbody>\n",
       "    <tr>\n",
       "      <th>0</th>\n",
       "      <td>e481f51cbdc54678b7cc49136f2d6af7</td>\n",
       "      <td>delivered</td>\n",
       "      <td>2017-10-02 10:56:33</td>\n",
       "      <td>2017-10-02 11:07:15</td>\n",
       "      <td>29.99</td>\n",
       "      <td>8.72</td>\n",
       "      <td>SP</td>\n",
       "      <td>housewares</td>\n",
       "      <td>SP</td>\n",
       "      <td>1</td>\n",
       "      <td>0.178333</td>\n",
       "      <td>38.71</td>\n",
       "      <td>2017-10</td>\n",
       "    </tr>\n",
       "    <tr>\n",
       "      <th>1</th>\n",
       "      <td>53cdb2fc8bc7dce0b6741e2150273451</td>\n",
       "      <td>delivered</td>\n",
       "      <td>2018-07-24 20:41:37</td>\n",
       "      <td>2018-07-26 03:24:27</td>\n",
       "      <td>118.70</td>\n",
       "      <td>22.76</td>\n",
       "      <td>BA</td>\n",
       "      <td>perfumery</td>\n",
       "      <td>SP</td>\n",
       "      <td>1</td>\n",
       "      <td>30.713889</td>\n",
       "      <td>141.46</td>\n",
       "      <td>2018-07</td>\n",
       "    </tr>\n",
       "    <tr>\n",
       "      <th>2</th>\n",
       "      <td>47770eb9100c2d0c44946d9cf07ec65d</td>\n",
       "      <td>delivered</td>\n",
       "      <td>2018-08-08 08:38:49</td>\n",
       "      <td>2018-08-08 08:55:23</td>\n",
       "      <td>159.90</td>\n",
       "      <td>19.22</td>\n",
       "      <td>GO</td>\n",
       "      <td>auto</td>\n",
       "      <td>SP</td>\n",
       "      <td>1</td>\n",
       "      <td>0.276111</td>\n",
       "      <td>179.12</td>\n",
       "      <td>2018-08</td>\n",
       "    </tr>\n",
       "    <tr>\n",
       "      <th>3</th>\n",
       "      <td>949d5b44dbf5de918fe9c16f97b45f8a</td>\n",
       "      <td>delivered</td>\n",
       "      <td>2017-11-18 19:28:06</td>\n",
       "      <td>2017-11-18 19:45:59</td>\n",
       "      <td>45.00</td>\n",
       "      <td>27.20</td>\n",
       "      <td>RN</td>\n",
       "      <td>pet_shop</td>\n",
       "      <td>MG</td>\n",
       "      <td>1</td>\n",
       "      <td>0.298056</td>\n",
       "      <td>72.20</td>\n",
       "      <td>2017-11</td>\n",
       "    </tr>\n",
       "    <tr>\n",
       "      <th>4</th>\n",
       "      <td>ad21c59c0840e6cb83a9ceb5573f8159</td>\n",
       "      <td>delivered</td>\n",
       "      <td>2018-02-13 21:18:39</td>\n",
       "      <td>2018-02-13 22:20:29</td>\n",
       "      <td>19.90</td>\n",
       "      <td>8.72</td>\n",
       "      <td>SP</td>\n",
       "      <td>stationery</td>\n",
       "      <td>SP</td>\n",
       "      <td>1</td>\n",
       "      <td>1.030556</td>\n",
       "      <td>28.62</td>\n",
       "      <td>2018-02</td>\n",
       "    </tr>\n",
       "  </tbody>\n",
       "</table>\n",
       "</div>"
      ],
      "text/plain": [
       "                           order_id order_status order_purchase_timestamp  \\\n",
       "0  e481f51cbdc54678b7cc49136f2d6af7    delivered      2017-10-02 10:56:33   \n",
       "1  53cdb2fc8bc7dce0b6741e2150273451    delivered      2018-07-24 20:41:37   \n",
       "2  47770eb9100c2d0c44946d9cf07ec65d    delivered      2018-08-08 08:38:49   \n",
       "3  949d5b44dbf5de918fe9c16f97b45f8a    delivered      2017-11-18 19:28:06   \n",
       "4  ad21c59c0840e6cb83a9ceb5573f8159    delivered      2018-02-13 21:18:39   \n",
       "\n",
       "    order_approved_at   price  freight_value customer_state  \\\n",
       "0 2017-10-02 11:07:15   29.99           8.72             SP   \n",
       "1 2018-07-26 03:24:27  118.70          22.76             BA   \n",
       "2 2018-08-08 08:55:23  159.90          19.22             GO   \n",
       "3 2017-11-18 19:45:59   45.00          27.20             RN   \n",
       "4 2018-02-13 22:20:29   19.90           8.72             SP   \n",
       "\n",
       "  product_category_name_english seller_state  status_venda  \\\n",
       "0                    housewares           SP             1   \n",
       "1                     perfumery           SP             1   \n",
       "2                          auto           SP             1   \n",
       "3                      pet_shop           MG             1   \n",
       "4                    stationery           SP             1   \n",
       "\n",
       "   tempo_aprovacao_horas  valor_total ano_mes_compra  \n",
       "0               0.178333        38.71        2017-10  \n",
       "1              30.713889       141.46        2018-07  \n",
       "2               0.276111       179.12        2018-08  \n",
       "3               0.298056        72.20        2017-11  \n",
       "4               1.030556        28.62        2018-02  "
      ]
     },
     "metadata": {},
     "output_type": "display_data"
    }
   ],
   "source": [
    "# Visualizar as novas colunas criadas\n",
    "display(df_pipeline.head())"
   ]
  },
  {
   "cell_type": "markdown",
   "id": "99a30696",
   "metadata": {},
   "source": [
    "2.4. Análise Exploratória de Dados (EDA)\n",
    "\n",
    "Agora que os dados estão limpos e enriquecidos, vamos visualizá-los para encontrar padrões."
   ]
  },
  {
   "cell_type": "code",
   "execution_count": 23,
   "id": "dc395984",
   "metadata": {},
   "outputs": [],
   "source": [
    "# Célula 7: Preparando para a visualização\n",
    "import matplotlib.pyplot as plt\n",
    "import seaborn as sns\n",
    "\n",
    "# Configurações visuais para os gráficos\n",
    "sns.set_theme(style=\"whitegrid\")"
   ]
  },
  {
   "cell_type": "code",
   "execution_count": 24,
   "id": "dda3a9a6",
   "metadata": {},
   "outputs": [
    {
     "data": {
      "image/png": "[encoded data removed]",
      "text/plain": [
       "<Figure size 800x600 with 1 Axes>"
      ]
     },
     "metadata": {},
     "output_type": "display_data"
    },
    {
     "name": "stdout",
     "output_type": "stream",
     "text": [
      "Nossa taxa de conversão (Win Rate) é de: 97.85%\n"
     ]
    }
   ],
   "source": [
    "# Célula 8: Qual a nossa taxa de conversão (ganhos vs. perdidos)?\n",
    "\n",
    "plt.figure(figsize=(8, 6))\n",
    "sns.countplot(x='status_venda', data=df_pipeline)\n",
    "plt.title('Distribuição de Vendas (1 = Ganha, 0 = Perdida)', fontsize=16)\n",
    "plt.xticks([0, 1], ['Perdida', 'Ganha'])\n",
    "plt.ylabel('Quantidade de Pedidos')\n",
    "plt.xlabel('Status da Venda')\n",
    "plt.show()\n",
    "\n",
    "# Calculando a taxa exata\n",
    "win_rate = df_pipeline['status_venda'].mean()\n",
    "print(f\"Nossa taxa de conversão (Win Rate) é de: {win_rate:.2%}\")"
   ]
  },
  {
   "cell_type": "code",
   "execution_count": 25,
   "id": "d7a4e24f",
   "metadata": {},
   "outputs": [
    {
     "data": {
      "image/png": "[encoded data removed]",
      "text/plain": [
       "<Figure size 1000x700 with 1 Axes>"
      ]
     },
     "metadata": {},
     "output_type": "display_data"
    }
   ],
   "source": [
    "# Célula 9: Qual o valor médio dos pedidos ganhos vs. perdidos?\n",
    "\n",
    "plt.figure(figsize=(10, 7))\n",
    "sns.boxplot(x='status_venda', y='valor_total', data=df_pipeline, showfliers=False)\n",
    "# 'showfliers=False' remove os outliers para uma melhor visualização da caixa\n",
    "\n",
    "plt.title('Valor Total do Pedido vs. Status da Venda', fontsize=16)\n",
    "plt.xticks([0, 1], ['Perdida', 'Ganha'])\n",
    "plt.xlabel('Status da Venda')\n",
    "plt.ylabel('Valor Total (R$)')\n",
    "plt.show()"
   ]
  },
  {
   "cell_type": "code",
   "execution_count": 26,
   "id": "6672fdc7",
   "metadata": {},
   "outputs": [
    {
     "data": {
      "image/png": "[encoded data removed]",
      "text/plain": [
       "<Figure size 1200x800 with 1 Axes>"
      ]
     },
     "metadata": {},
     "output_type": "display_data"
    }
   ],
   "source": [
    "# Célula 10: Top 10 categorias de produtos com maior taxa de conversão\n",
    "\n",
    "# Calcular a taxa de conversão por categoria\n",
    "win_rate_por_categoria = df_pipeline.groupby('product_category_name_english')['status_venda'].mean().sort_values(ascending=False).head(10)\n",
    "\n",
    "plt.figure(figsize=(12, 8))\n",
    "sns.barplot(y=win_rate_por_categoria.index, x=win_rate_por_categoria.values, orient='h')\n",
    "plt.title('Top 10 Categorias com Maior Taxa de Conversão', fontsize=16)\n",
    "plt.xlabel('Taxa de Conversão (Win Rate)')\n",
    "plt.ylabel('Categoria do Produto')\n",
    "plt.xlim(0.9, 1.0) # Ajusta o limite do eixo X para destacar as diferenças\n",
    "plt.show()"
   ]
  },
  {
   "cell_type": "markdown",
   "id": "0a0e0aaa",
   "metadata": {},
   "source": [
    "Fase 2 concluída com sucesso!\n",
    "\n",
    "Resumo do que fizemos:\n",
    "\n",
    "1. Focamos nosso estudo selecionando as colunas mais importantes.\n",
    "\n",
    "2. Limpamos os dados, tratando valores ausentes e corrigindo os tipos das colunas.\n",
    "\n",
    "3. Criamos variáveis de negócio poderosas, como o status_venda (nossa meta), tempo_aprovacao_horas e valor_total.\n",
    "\n",
    "4. Geramos os primeiros insights visuais, entendendo nossa taxa de conversão e identificando quais fatores, como a categoria do produto, podem influenciá-la.\n",
    "\n",
    "Os padrões que começamos a ver aqui são exatamente o que um modelo de Machine Learning vai usar para aprender a prever resultados."
   ]
  },
  {
   "cell_type": "markdown",
   "id": "fdfc6a49",
   "metadata": {},
   "source": [
    "_________________________\n"
   ]
  },
  {
   "cell_type": "markdown",
   "id": "c70f9c5b",
   "metadata": {},
   "source": [
    "**Modelo preditivo**"
   ]
  },
  {
   "cell_type": "markdown",
   "id": "f0ab9171",
   "metadata": {},
   "source": [
    "Fase 3: Modelagem de Machine Learning"
   ]
  },
  {
   "cell_type": "markdown",
   "id": "15a47fad",
   "metadata": {},
   "source": [
    "3.1. Preparação dos Dados para o Modelo\n",
    "Modelos de machine learning não entendem texto (como 'SP' ou 'RJ'). Precisamos converter todas as nossas colunas para números. Além disso, precisamos separar claramente quais colunas serão usadas para prever (features) e qual coluna é o nosso alvo (target)."
   ]
  },
  {
   "cell_type": "code",
   "execution_count": 27,
   "id": "71f41c29",
   "metadata": {},
   "outputs": [],
   "source": [
    "# Célula 11: Preparando os dados para o modelo\n",
    "\n",
    "# 1. Selecionar as features (X) e o alvo (y)\n",
    "# Features são as variáveis que usaremos para fazer a previsão.\n",
    "features = [\n",
    "    'price',\n",
    "    'freight_value',\n",
    "    'customer_state',\n",
    "    'product_category_name_english',\n",
    "    'tempo_aprovacao_horas'\n",
    "]\n",
    "\n",
    "# Target é o que queremos prever.\n",
    "target = 'status_venda'\n",
    "\n",
    "X = df_pipeline[features]\n",
    "y = df_pipeline[target]\n",
    "\n"
   ]
  },
  {
   "cell_type": "code",
   "execution_count": 28,
   "id": "b7ff4111",
   "metadata": {},
   "outputs": [
    {
     "name": "stdout",
     "output_type": "stream",
     "text": [
      "--- Dimensões dos dados antes do encoding: (111009, 5)\n",
      "--- Dimensões dos dados depois do encoding: (111009, 99)\n"
     ]
    },
    {
     "data": {
      "text/html": [
       "<div>\n",
       "<style scoped>\n",
       "    .dataframe tbody tr th:only-of-type {\n",
       "        vertical-align: middle;\n",
       "    }\n",
       "\n",
       "    .dataframe tbody tr th {\n",
       "        vertical-align: top;\n",
       "    }\n",
       "\n",
       "    .dataframe thead th {\n",
       "        text-align: right;\n",
       "    }\n",
       "</style>\n",
       "<table border=\"1\" class=\"dataframe\">\n",
       "  <thead>\n",
       "    <tr style=\"text-align: right;\">\n",
       "      <th></th>\n",
       "      <th>price</th>\n",
       "      <th>freight_value</th>\n",
       "      <th>tempo_aprovacao_horas</th>\n",
       "      <th>customer_state_AL</th>\n",
       "      <th>customer_state_AM</th>\n",
       "      <th>customer_state_AP</th>\n",
       "      <th>customer_state_BA</th>\n",
       "      <th>customer_state_CE</th>\n",
       "      <th>customer_state_DF</th>\n",
       "      <th>customer_state_ES</th>\n",
       "      <th>...</th>\n",
       "      <th>product_category_name_english_security_and_services</th>\n",
       "      <th>product_category_name_english_signaling_and_security</th>\n",
       "      <th>product_category_name_english_small_appliances</th>\n",
       "      <th>product_category_name_english_small_appliances_home_oven_and_coffee</th>\n",
       "      <th>product_category_name_english_sports_leisure</th>\n",
       "      <th>product_category_name_english_stationery</th>\n",
       "      <th>product_category_name_english_tablets_printing_image</th>\n",
       "      <th>product_category_name_english_telephony</th>\n",
       "      <th>product_category_name_english_toys</th>\n",
       "      <th>product_category_name_english_watches_gifts</th>\n",
       "    </tr>\n",
       "  </thead>\n",
       "  <tbody>\n",
       "    <tr>\n",
       "      <th>0</th>\n",
       "      <td>29.99</td>\n",
       "      <td>8.72</td>\n",
       "      <td>0.178333</td>\n",
       "      <td>False</td>\n",
       "      <td>False</td>\n",
       "      <td>False</td>\n",
       "      <td>False</td>\n",
       "      <td>False</td>\n",
       "      <td>False</td>\n",
       "      <td>False</td>\n",
       "      <td>...</td>\n",
       "      <td>False</td>\n",
       "      <td>False</td>\n",
       "      <td>False</td>\n",
       "      <td>False</td>\n",
       "      <td>False</td>\n",
       "      <td>False</td>\n",
       "      <td>False</td>\n",
       "      <td>False</td>\n",
       "      <td>False</td>\n",
       "      <td>False</td>\n",
       "    </tr>\n",
       "    <tr>\n",
       "      <th>1</th>\n",
       "      <td>118.70</td>\n",
       "      <td>22.76</td>\n",
       "      <td>30.713889</td>\n",
       "      <td>False</td>\n",
       "      <td>False</td>\n",
       "      <td>False</td>\n",
       "      <td>True</td>\n",
       "      <td>False</td>\n",
       "      <td>False</td>\n",
       "      <td>False</td>\n",
       "      <td>...</td>\n",
       "      <td>False</td>\n",
       "      <td>False</td>\n",
       "      <td>False</td>\n",
       "      <td>False</td>\n",
       "      <td>False</td>\n",
       "      <td>False</td>\n",
       "      <td>False</td>\n",
       "      <td>False</td>\n",
       "      <td>False</td>\n",
       "      <td>False</td>\n",
       "    </tr>\n",
       "    <tr>\n",
       "      <th>2</th>\n",
       "      <td>159.90</td>\n",
       "      <td>19.22</td>\n",
       "      <td>0.276111</td>\n",
       "      <td>False</td>\n",
       "      <td>False</td>\n",
       "      <td>False</td>\n",
       "      <td>False</td>\n",
       "      <td>False</td>\n",
       "      <td>False</td>\n",
       "      <td>False</td>\n",
       "      <td>...</td>\n",
       "      <td>False</td>\n",
       "      <td>False</td>\n",
       "      <td>False</td>\n",
       "      <td>False</td>\n",
       "      <td>False</td>\n",
       "      <td>False</td>\n",
       "      <td>False</td>\n",
       "      <td>False</td>\n",
       "      <td>False</td>\n",
       "      <td>False</td>\n",
       "    </tr>\n",
       "    <tr>\n",
       "      <th>3</th>\n",
       "      <td>45.00</td>\n",
       "      <td>27.20</td>\n",
       "      <td>0.298056</td>\n",
       "      <td>False</td>\n",
       "      <td>False</td>\n",
       "      <td>False</td>\n",
       "      <td>False</td>\n",
       "      <td>False</td>\n",
       "      <td>False</td>\n",
       "      <td>False</td>\n",
       "      <td>...</td>\n",
       "      <td>False</td>\n",
       "      <td>False</td>\n",
       "      <td>False</td>\n",
       "      <td>False</td>\n",
       "      <td>False</td>\n",
       "      <td>False</td>\n",
       "      <td>False</td>\n",
       "      <td>False</td>\n",
       "      <td>False</td>\n",
       "      <td>False</td>\n",
       "    </tr>\n",
       "    <tr>\n",
       "      <th>4</th>\n",
       "      <td>19.90</td>\n",
       "      <td>8.72</td>\n",
       "      <td>1.030556</td>\n",
       "      <td>False</td>\n",
       "      <td>False</td>\n",
       "      <td>False</td>\n",
       "      <td>False</td>\n",
       "      <td>False</td>\n",
       "      <td>False</td>\n",
       "      <td>False</td>\n",
       "      <td>...</td>\n",
       "      <td>False</td>\n",
       "      <td>False</td>\n",
       "      <td>False</td>\n",
       "      <td>False</td>\n",
       "      <td>False</td>\n",
       "      <td>True</td>\n",
       "      <td>False</td>\n",
       "      <td>False</td>\n",
       "      <td>False</td>\n",
       "      <td>False</td>\n",
       "    </tr>\n",
       "  </tbody>\n",
       "</table>\n",
       "<p>5 rows × 99 columns</p>\n",
       "</div>"
      ],
      "text/plain": [
       "    price  freight_value  tempo_aprovacao_horas  customer_state_AL  \\\n",
       "0   29.99           8.72               0.178333              False   \n",
       "1  118.70          22.76              30.713889              False   \n",
       "2  159.90          19.22               0.276111              False   \n",
       "3   45.00          27.20               0.298056              False   \n",
       "4   19.90           8.72               1.030556              False   \n",
       "\n",
       "   customer_state_AM  customer_state_AP  customer_state_BA  customer_state_CE  \\\n",
       "0              False              False              False              False   \n",
       "1              False              False               True              False   \n",
       "2              False              False              False              False   \n",
       "3              False              False              False              False   \n",
       "4              False              False              False              False   \n",
       "\n",
       "   customer_state_DF  customer_state_ES  ...  \\\n",
       "0              False              False  ...   \n",
       "1              False              False  ...   \n",
       "2              False              False  ...   \n",
       "3              False              False  ...   \n",
       "4              False              False  ...   \n",
       "\n",
       "   product_category_name_english_security_and_services  \\\n",
       "0                                              False     \n",
       "1                                              False     \n",
       "2                                              False     \n",
       "3                                              False     \n",
       "4                                              False     \n",
       "\n",
       "   product_category_name_english_signaling_and_security  \\\n",
       "0                                              False      \n",
       "1                                              False      \n",
       "2                                              False      \n",
       "3                                              False      \n",
       "4                                              False      \n",
       "\n",
       "   product_category_name_english_small_appliances  \\\n",
       "0                                           False   \n",
       "1                                           False   \n",
       "2                                           False   \n",
       "3                                           False   \n",
       "4                                           False   \n",
       "\n",
       "   product_category_name_english_small_appliances_home_oven_and_coffee  \\\n",
       "0                                              False                     \n",
       "1                                              False                     \n",
       "2                                              False                     \n",
       "3                                              False                     \n",
       "4                                              False                     \n",
       "\n",
       "   product_category_name_english_sports_leisure  \\\n",
       "0                                         False   \n",
       "1                                         False   \n",
       "2                                         False   \n",
       "3                                         False   \n",
       "4                                         False   \n",
       "\n",
       "   product_category_name_english_stationery  \\\n",
       "0                                     False   \n",
       "1                                     False   \n",
       "2                                     False   \n",
       "3                                     False   \n",
       "4                                      True   \n",
       "\n",
       "   product_category_name_english_tablets_printing_image  \\\n",
       "0                                              False      \n",
       "1                                              False      \n",
       "2                                              False      \n",
       "3                                              False      \n",
       "4                                              False      \n",
       "\n",
       "   product_category_name_english_telephony  \\\n",
       "0                                    False   \n",
       "1                                    False   \n",
       "2                                    False   \n",
       "3                                    False   \n",
       "4                                    False   \n",
       "\n",
       "   product_category_name_english_toys  \\\n",
       "0                               False   \n",
       "1                               False   \n",
       "2                               False   \n",
       "3                               False   \n",
       "4                               False   \n",
       "\n",
       "   product_category_name_english_watches_gifts  \n",
       "0                                        False  \n",
       "1                                        False  \n",
       "2                                        False  \n",
       "3                                        False  \n",
       "4                                        False  \n",
       "\n",
       "[5 rows x 99 columns]"
      ]
     },
     "metadata": {},
     "output_type": "display_data"
    }
   ],
   "source": [
    "# 2. Convertendo variáveis categóricas em numéricas (One-Hot Encoding)\n",
    "# O pandas tem uma função perfeita para isso: get_dummies.\n",
    "# Ela transforma cada categoria em uma nova coluna 0 ou 1.\n",
    "X_encoded = pd.get_dummies(X, columns=['customer_state', 'product_category_name_english'], drop_first=True)\n",
    "\n",
    "# drop_first=True remove a primeira categoria de cada variável para evitar redundância,\n",
    "# o que é uma boa prática para alguns modelos.\n",
    "\n",
    "print(\"--- Dimensões dos dados antes do encoding:\", X.shape)\n",
    "print(\"--- Dimensões dos dados depois do encoding:\", X_encoded.shape)\n",
    "display(X_encoded.head())"
   ]
  },
  {
   "cell_type": "markdown",
   "id": "56726d25",
   "metadata": {},
   "source": [
    "3.2. Divisão em Dados de Treino e Teste\n",
    "\n",
    "Esta é uma das etapas mais importantes. Nunca devemos testar nosso modelo com os mesmos dados que usamos para treiná-lo. Seria como dar as respostas da prova para o aluno antes de ele estudar.\n",
    "\n",
    "Vamos dividir nossos dados:\n",
    "\n",
    "70% para treino: O modelo vai \"aprender\" com esses dados.\n",
    "\n",
    "30% para teste: Usaremos esses dados, que o modelo nunca viu, para ver se ele realmente aprendeu ou só decorou."
   ]
  },
  {
   "cell_type": "code",
   "execution_count": 29,
   "id": "6be26a68",
   "metadata": {},
   "outputs": [
    {
     "name": "stdout",
     "output_type": "stream",
     "text": [
      "Formato dos dados de treino (X_train): (77706, 99)\n",
      "Formato dos dados de teste (X_test): (33303, 99)\n"
     ]
    }
   ],
   "source": [
    "# Célula 12: Dividindo os dados em treino e teste\n",
    "from sklearn.model_selection import train_test_split\n",
    "\n",
    "X_train, X_test, y_train, y_test = train_test_split(\n",
    "    X_encoded,          # Nossas features já convertidas para números\n",
    "    y,                  # Nosso alvo (0 ou 1)\n",
    "    test_size=0.3,      # Proporção dos dados para teste (30%)\n",
    "    random_state=42,    # Garante que a divisão seja sempre a mesma\n",
    "    stratify=y          # Mantém a proporção de 0s e 1s em ambos os conjuntos\n",
    ")\n",
    "\n",
    "print(\"Formato dos dados de treino (X_train):\", X_train.shape)\n",
    "print(\"Formato dos dados de teste (X_test):\", X_test.shape)"
   ]
  },
  {
   "cell_type": "markdown",
   "id": "cfbe4103",
   "metadata": {},
   "source": [
    "3.3. Treinamento do Modelo de Classificação\n",
    "\n",
    "Vamos começar com um dos modelos mais clássicos e eficientes para problemas de classificação como o nosso: a **Regressão Logística**. Ele é rápido, fácil de interpretar e um ótimo ponto de partida."
   ]
  },
  {
   "cell_type": "code",
   "execution_count": 30,
   "id": "07dd97cd",
   "metadata": {},
   "outputs": [
    {
     "name": "stdout",
     "output_type": "stream",
     "text": [
      "Modelo treinado com sucesso!\n"
     ]
    }
   ],
   "source": [
    "# Célula 13: Treinando o modelo de Regressão Logística\n",
    "from sklearn.linear_model import LogisticRegression\n",
    "\n",
    "# 1. Criar uma instância do modelo\n",
    "# O 'max_iter' é aumentado para garantir que o modelo tenha \"tentativas\" suficientes para convergir.\n",
    "model = LogisticRegression(max_iter=1000)\n",
    "\n",
    "# 2. Treinar o modelo com os dados de treino\n",
    "model.fit(X_train, y_train)\n",
    "\n",
    "print(\"Modelo treinado com sucesso!\")"
   ]
  },
  {
   "cell_type": "markdown",
   "id": "5e943427",
   "metadata": {},
   "source": [
    "3.4. Avaliação de Performance\n",
    "\n",
    "O modelo está treinado. E agora? **Ele é bom?** Vamos descobrir, usando os dados de teste que ele nunca viu."
   ]
  },
  {
   "cell_type": "code",
   "execution_count": 31,
   "id": "720e70f9",
   "metadata": {},
   "outputs": [],
   "source": [
    "# Célula 14: Fazendo previsões e avaliando o modelo\n",
    "from sklearn.metrics import accuracy_score, classification_report, confusion_matrix"
   ]
  },
  {
   "cell_type": "code",
   "execution_count": 32,
   "id": "be26afac",
   "metadata": {},
   "outputs": [],
   "source": [
    "# 1. Fazer previsões nos dados de teste\n",
    "y_pred = model.predict(X_test)"
   ]
  },
  {
   "cell_type": "code",
   "execution_count": 33,
   "id": "e3691b7e",
   "metadata": {},
   "outputs": [
    {
     "name": "stdout",
     "output_type": "stream",
     "text": [
      "Acurácia do modelo: 97.85%\n",
      "\n"
     ]
    }
   ],
   "source": [
    "# 2. Avaliar a acurácia\n",
    "accuracy = accuracy_score(y_test, y_pred)\n",
    "print(f\"Acurácia do modelo: {accuracy:.2%}\\n\")"
   ]
  },
  {
   "cell_type": "code",
   "execution_count": 34,
   "id": "6eced72e",
   "metadata": {},
   "outputs": [
    {
     "name": "stdout",
     "output_type": "stream",
     "text": [
      "--- Relatório de Classificação ---\n",
      "              precision    recall  f1-score   support\n",
      "\n",
      " Perdida (0)       0.00      0.00      0.00       716\n",
      "   Ganha (1)       0.98      1.00      0.99     32587\n",
      "\n",
      "    accuracy                           0.98     33303\n",
      "   macro avg       0.49      0.50      0.49     33303\n",
      "weighted avg       0.96      0.98      0.97     33303\n",
      "\n"
     ]
    },
    {
     "name": "stderr",
     "output_type": "stream",
     "text": [
      "c:\\Users\\edsoo\\pipeline_elen_dados_vendas\\venv\\Lib\\site-packages\\sklearn\\metrics\\_classification.py:1731: UndefinedMetricWarning: Precision is ill-defined and being set to 0.0 in labels with no predicted samples. Use `zero_division` parameter to control this behavior.\n",
      "  _warn_prf(average, modifier, f\"{metric.capitalize()} is\", result.shape[0])\n",
      "c:\\Users\\edsoo\\pipeline_elen_dados_vendas\\venv\\Lib\\site-packages\\sklearn\\metrics\\_classification.py:1731: UndefinedMetricWarning: Precision is ill-defined and being set to 0.0 in labels with no predicted samples. Use `zero_division` parameter to control this behavior.\n",
      "  _warn_prf(average, modifier, f\"{metric.capitalize()} is\", result.shape[0])\n",
      "c:\\Users\\edsoo\\pipeline_elen_dados_vendas\\venv\\Lib\\site-packages\\sklearn\\metrics\\_classification.py:1731: UndefinedMetricWarning: Precision is ill-defined and being set to 0.0 in labels with no predicted samples. Use `zero_division` parameter to control this behavior.\n",
      "  _warn_prf(average, modifier, f\"{metric.capitalize()} is\", result.shape[0])\n"
     ]
    }
   ],
   "source": [
    "# 3. Relatório de Classificação Completo\n",
    "# Mostra métricas importantes como precisão, recall e f1-score para cada classe.\n",
    "print(\"--- Relatório de Classificação ---\")\n",
    "print(classification_report(y_test, y_pred, target_names=['Perdida (0)', 'Ganha (1)']))\n"
   ]
  },
  {
   "cell_type": "code",
   "execution_count": 35,
   "id": "5494e114",
   "metadata": {},
   "outputs": [
    {
     "name": "stdout",
     "output_type": "stream",
     "text": [
      "\n",
      "--- Matriz de Confusão ---\n"
     ]
    },
    {
     "data": {
      "image/png": "[encoded data removed]",
      "text/plain": [
       "<Figure size 640x480 with 2 Axes>"
      ]
     },
     "metadata": {},
     "output_type": "display_data"
    }
   ],
   "source": [
    "# 4. Matriz de Confusão\n",
    "# Uma forma visual de ver os acertos e erros.\n",
    "print(\"\\n--- Matriz de Confusão ---\")\n",
    "cm = confusion_matrix(y_test, y_pred)\n",
    "sns.heatmap(cm, annot=True, fmt='d', cmap='Blues', xticklabels=['Perdida', 'Ganha'], yticklabels=['Perdida', 'Ganha'])\n",
    "plt.ylabel('Verdadeiro')\n",
    "plt.xlabel('Previsto')\n",
    "plt.title('Matriz de Confusão')\n",
    "plt.show()"
   ]
  },
  {
   "cell_type": "markdown",
   "id": "603a9539",
   "metadata": {},
   "source": [
    "Interpretando os Resultados:\n",
    "\n",
    "Acurácia: De todas as previsões, qual a porcentagem que o modelo acertou? É uma boa métrica geral.\n",
    "\n",
    "Relatório de Classificação:\n",
    "\n",
    "Precision (Precisão): Das vezes que o modelo previu \"Venda Ganha\", quantas ele acertou? Importante para não gerar falsos positivos.\n",
    "\n",
    "Recall (Sensibilidade): De todas as vendas que foram realmente \"Ganhadas\", quantas o modelo conseguiu identificar? Importante para não deixar oportunidades passarem.\n",
    "\n",
    "Matriz de Confusão: Mostra os números brutos. O ideal é ter números altos na diagonal principal (acertos) e baixos fora dela (erros)."
   ]
  },
  {
   "cell_type": "markdown",
   "id": "07047511",
   "metadata": {},
   "source": [
    "**Fase 3 concluída!**\n",
    "\n",
    "Acabamos de construir, treinar e validar um modelo de machine learning! Temos agora uma \"máquina\" que, com base em dados de um novo pedido, pode nos dar uma previsão sobre sua chance de sucesso.\n",
    "\n",
    "O resultado da acurácia provavelmente será muito alto (acima de 98%), pois nosso dataset é \"desbalanceado\" (temos muito mais vendas ganhas do que perdidas). O classification_report nos dá uma visão mais detalhada e útil da performance real do modelo."
   ]
  },
  {
   "cell_type": "markdown",
   "id": "b563d33b",
   "metadata": {},
   "source": [
    "______________________"
   ]
  },
  {
   "cell_type": "markdown",
   "id": "908a0418",
   "metadata": {},
   "source": [
    "**Fase 4: Visualização e Dashboarding**\n",
    "\n",
    "Nesta fase, vamos sair um pouco do nosso notebook Jupyter e usar uma ferramenta de Business Intelligence (BI). A ferramenta recomendada é o Looker Studio (antigo Google Data Studio), por ser gratuita, poderosa e totalmente online.\n",
    "\n",
    "4.1. Preparando os Dados para o Dashboard\n",
    "Primeiro, precisamos criar um arquivo CSV final que contenha tanto os dados que usamos na análise quanto as previsões que o nosso modelo gerou."
   ]
  },
  {
   "cell_type": "code",
   "execution_count": 36,
   "id": "8ee7b418",
   "metadata": {},
   "outputs": [
    {
     "name": "stdout",
     "output_type": "stream",
     "text": [
      "Arquivo para o dashboard salvo com sucesso em: '../dados/dados_para_dashboard.csv'\n"
     ]
    },
    {
     "data": {
      "text/html": [
       "<div>\n",
       "<style scoped>\n",
       "    .dataframe tbody tr th:only-of-type {\n",
       "        vertical-align: middle;\n",
       "    }\n",
       "\n",
       "    .dataframe tbody tr th {\n",
       "        vertical-align: top;\n",
       "    }\n",
       "\n",
       "    .dataframe thead th {\n",
       "        text-align: right;\n",
       "    }\n",
       "</style>\n",
       "<table border=\"1\" class=\"dataframe\">\n",
       "  <thead>\n",
       "    <tr style=\"text-align: right;\">\n",
       "      <th></th>\n",
       "      <th>Estado do Cliente</th>\n",
       "      <th>Categoria do Produto</th>\n",
       "      <th>Valor Total</th>\n",
       "      <th>Status Real</th>\n",
       "      <th>Status Previsto</th>\n",
       "      <th>Acerto do Modelo</th>\n",
       "    </tr>\n",
       "  </thead>\n",
       "  <tbody>\n",
       "    <tr>\n",
       "      <th>39460</th>\n",
       "      <td>SP</td>\n",
       "      <td>computers_accessories</td>\n",
       "      <td>91.68</td>\n",
       "      <td>1</td>\n",
       "      <td>1</td>\n",
       "      <td>True</td>\n",
       "    </tr>\n",
       "    <tr>\n",
       "      <th>76122</th>\n",
       "      <td>MG</td>\n",
       "      <td>perfumery</td>\n",
       "      <td>281.40</td>\n",
       "      <td>1</td>\n",
       "      <td>1</td>\n",
       "      <td>True</td>\n",
       "    </tr>\n",
       "    <tr>\n",
       "      <th>63356</th>\n",
       "      <td>MT</td>\n",
       "      <td>furniture_decor</td>\n",
       "      <td>63.82</td>\n",
       "      <td>1</td>\n",
       "      <td>1</td>\n",
       "      <td>True</td>\n",
       "    </tr>\n",
       "    <tr>\n",
       "      <th>49251</th>\n",
       "      <td>RS</td>\n",
       "      <td>bed_bath_table</td>\n",
       "      <td>63.10</td>\n",
       "      <td>1</td>\n",
       "      <td>1</td>\n",
       "      <td>True</td>\n",
       "    </tr>\n",
       "    <tr>\n",
       "      <th>80375</th>\n",
       "      <td>BA</td>\n",
       "      <td>baby</td>\n",
       "      <td>116.90</td>\n",
       "      <td>1</td>\n",
       "      <td>1</td>\n",
       "      <td>True</td>\n",
       "    </tr>\n",
       "  </tbody>\n",
       "</table>\n",
       "</div>"
      ],
      "text/plain": [
       "      Estado do Cliente   Categoria do Produto  Valor Total  Status Real  \\\n",
       "39460                SP  computers_accessories        91.68            1   \n",
       "76122                MG              perfumery       281.40            1   \n",
       "63356                MT        furniture_decor        63.82            1   \n",
       "49251                RS         bed_bath_table        63.10            1   \n",
       "80375                BA                   baby       116.90            1   \n",
       "\n",
       "       Status Previsto  Acerto do Modelo  \n",
       "39460                1              True  \n",
       "76122                1              True  \n",
       "63356                1              True  \n",
       "49251                1              True  \n",
       "80375                1              True  "
      ]
     },
     "metadata": {},
     "output_type": "display_data"
    }
   ],
   "source": [
    "# Célula 15 (versão corrigida e completa)\n",
    "\n",
    "# 1. Vamos pegar os dados de teste originais (antes do encoding)\n",
    "df_teste_final = X_test.copy()\n",
    "df_teste_final['status_real'] = y_test\n",
    "df_teste_final['status_previsto'] = y_pred\n",
    "\n",
    "# 2. Recuperar as informações originais de estado e categoria\n",
    "df_infos_originais = df_pipeline.loc[df_teste_final.index, ['customer_state', 'product_category_name_english', 'valor_total']]\n",
    "\n",
    "# 3. Juntar as informações originais com nosso dataframe de resultados\n",
    "df_dashboard = pd.merge(df_teste_final, df_infos_originais, left_index=True, right_index=True)\n",
    "\n",
    "# 4. Adicionar a coluna para analisar os acertos e erros do modelo\n",
    "# ESTA É A LINHA QUE PROVAVELMENTE FALTOU OU FALHOU:\n",
    "df_dashboard['acerto_do_modelo'] = (df_dashboard['status_real'] == df_dashboard['status_previsto'])\n",
    "\n",
    "# 5. Selecionar e renomear colunas para o arquivo final (já com sua correção)\n",
    "colunas_dashboard = {\n",
    "    'customer_state': 'Estado do Cliente',\n",
    "    'product_category_name_english': 'Categoria do Produto', # Usando o nome corrigido que você encontrou\n",
    "    'valor_total': 'Valor Total',\n",
    "    'status_real': 'Status Real',\n",
    "    'status_previsto': 'Status Previsto',\n",
    "    'acerto_do_modelo': 'Acerto do Modelo'\n",
    "}\n",
    "\n",
    "# 6. Filtrar pelas chaves do dicionário e renomear\n",
    "df_dashboard_final = df_dashboard[colunas_dashboard.keys()].rename(columns=colunas_dashboard)\n",
    "\n",
    "# 7. Salvar em um arquivo CSV\n",
    "caminho_arquivo_dashboard = '../dados/dados_para_dashboard.csv'\n",
    "df_dashboard_final.to_csv(caminho_arquivo_dashboard, index=False)\n",
    "\n",
    "print(f\"Arquivo para o dashboard salvo com sucesso em: '{caminho_arquivo_dashboard}'\")\n",
    "display(df_dashboard_final.head())"
   ]
  }
 ],
 "metadata": {
  "kernelspec": {
   "display_name": "venv",
   "language": "python",
   "name": "python3"
  },
  "language_info": {
   "codemirror_mode": {
    "name": "ipython",
    "version": 3
   },
   "file_extension": ".py",
   "mimetype": "text/x-python",
   "name": "python",
   "nbconvert_exporter": "python",
   "pygments_lexer": "ipython3",
   "version": "3.13.7"
  }
 },
 "nbformat": 4,
 "nbformat_minor": 5
}
